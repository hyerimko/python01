{
 "cells": [
  {
   "cell_type": "markdown",
   "id": "31e4ee2c-136b-48fe-85c0-6fea9e24f48a",
   "metadata": {},
   "source": [
    "# 1. Gauss-Jordan 소거법 (프로그래밍 실습)\n",
    "#### 1) Augmented Matrix"
   ]
  },
  {
   "cell_type": "code",
   "execution_count": 35,
   "id": "eb96820c-cee9-478d-bbd3-71e70972e10c",
   "metadata": {},
   "outputs": [],
   "source": [
    "import numpy as np\n",
    "import sympy as sy"
   ]
  },
  {
   "cell_type": "markdown",
   "id": "ac334b0a-adff-44f7-a1dd-eee2e474bd67",
   "metadata": {},
   "source": [
    "#### 1.3. Example 1\n",
    "$$\n",
    "\\begin{cases}\n",
    "x_1-2x_2+x_3&=0 \\\\[1ex]\n",
    "\\hspace{1cm}2x_2-8x_3&=8\\\\[1ex]\n",
    "5x_1\\hspace{1cm}-5x_3&=10\n",
    "\\end{cases}\n",
    "\\hspace{3cm}\n",
    "\\begin{bmatrix}\n",
    "1& -2 & 1 & | & 0 \\\\\n",
    "0 & 2 & -8 & | & 8 \\\\\n",
    "5 & 0 & -5 & | &10\n",
    "\\end{bmatrix}\n",
    "$$"
   ]
  },
  {
   "cell_type": "markdown",
   "id": "9dae54ec-35ab-4b04-8f41-fed26aad824e",
   "metadata": {},
   "source": [
    "1) 행렬 A, b를 붙여 augmented matrix 만들기"
   ]
  },
  {
   "cell_type": "code",
   "execution_count": 148,
   "id": "a06ea08c-126c-462b-9882-8f9fb852d7a6",
   "metadata": {},
   "outputs": [],
   "source": [
    "A = np.array([[1,-2,1],[0,2,-8],[5,0,-5]])\n",
    "b = np.array([[0,8,10]]) #이중으로 만들기\n",
    "A,b"
   ]
  },
  {
   "cell_type": "code",
   "execution_count": 146,
   "id": "fec31fda-83d4-419b-b604-7c498a3a3458",
   "metadata": {},
   "outputs": [],
   "source": [
    "A.shape, b.shape, b.T.shape"
   ]
  },
  {
   "cell_type": "code",
   "execution_count": 144,
   "id": "66008a85-a2fb-4d27-9289-9ba77d4ad5ac",
   "metadata": {},
   "outputs": [],
   "source": [
    "Ab = np.hstack([A,b.T])\n",
    "Ab"
   ]
  },
  {
   "cell_type": "code",
   "execution_count": 150,
   "id": "17ad84c2-6eef-4140-8f42-461ea3f07eab",
   "metadata": {},
   "outputs": [],
   "source": [
    "b = np.array([0,8,10]) # 하나로 만든 경우"
   ]
  },
  {
   "cell_type": "code",
   "execution_count": 162,
   "id": "e59e9ee1-d10e-4503-8648-90cf72e8b3b1",
   "metadata": {},
   "outputs": [],
   "source": [
    "b.reshape(3,1)"
   ]
  },
  {
   "cell_type": "code",
   "execution_count": 160,
   "id": "3f8f1211-3dfc-4262-b648-4833bdcc8ab1",
   "metadata": {},
   "outputs": [],
   "source": [
    "b.reshape(-1,1)"
   ]
  },
  {
   "cell_type": "code",
   "execution_count": 158,
   "id": "bcb34fc1-4a6f-4aba-8c9c-93ca2c4f2cb5",
   "metadata": {},
   "outputs": [],
   "source": [
    "np.hstack([A,b.reshape(-1,1)])"
   ]
  },
  {
   "cell_type": "markdown",
   "id": "0a06d1c6-faca-46eb-a0df-406bd47ae499",
   "metadata": {},
   "source": [
    "Row Echelon form:\n",
    "$$\n",
    "\\begin{cases}\n",
    "x_1-2x_2+x_3&=0 \\\\[1ex]\n",
    "\\hspace{.9cm}2x_2-4x_3&=4\\\\[1ex]\n",
    "\\hspace{1.8cm} x_3&=-1\n",
    "\\end{cases}\n",
    "\\hspace{3cm}\n",
    "\\begin{bmatrix}\n",
    "1& -2 & 1 & | & 0 \\\\\n",
    "0 & 1 & -4 & | & 4 \\\\\n",
    "0 & 0 & 1 & | &-1\n",
    "\\end{bmatrix}\n",
    "$$\n",
    "\n",
    "Reduced Row Echelon form:\n",
    "$$\n",
    "\\begin{cases}\n",
    "x_1 \\hspace{1.8cm} &=1 \\\\[1ex]\n",
    "\\hspace{.9cm}x_2 \\hspace{.9cm}&=0\\\\[1ex]\n",
    "\\hspace{1.8cm} x_3&=-1\n",
    "\\end{cases}\n",
    "\\hspace{3cm}\n",
    "\\begin{bmatrix}\n",
    "1& 0 & 0 & | & 1 \\\\\n",
    "0 & 1 & 0 & | & 0 \\\\\n",
    "0 & 0 & 1 & | &-1\n",
    "\\end{bmatrix}\n",
    "$$"
   ]
  },
  {
   "cell_type": "code",
   "execution_count": 166,
   "id": "56974b1e-531c-4a57-86f2-41bc531402eb",
   "metadata": {},
   "outputs": [],
   "source": [
    "sy.Matrix(Ab)"
   ]
  },
  {
   "cell_type": "code",
   "execution_count": 164,
   "id": "9288588e-3318-4c1d-874d-c00ed1cd701f",
   "metadata": {},
   "outputs": [],
   "source": [
    "rref_matrix, pivot_column= sy.Matrix(Ab).rref()"
   ]
  },
  {
   "cell_type": "code",
   "execution_count": null,
   "id": "98fc19d7-543b-423d-8a67-bb159e3f31ed",
   "metadata": {},
   "outputs": [],
   "source": [
    "rref_matrix"
   ]
  },
  {
   "cell_type": "code",
   "execution_count": 118,
   "id": "1da2e65b-e38e-4bff-b572-cfbdce9918cf",
   "metadata": {},
   "outputs": [
    {
     "data": {
      "text/plain": [
       "(0, 1, 2)"
      ]
     },
     "execution_count": 118,
     "metadata": {},
     "output_type": "execute_result"
    }
   ],
   "source": [
    "pivot_column"
   ]
  },
  {
   "cell_type": "code",
   "execution_count": null,
   "id": "7b9acf60-b911-47f2-97ae-44051498e3f8",
   "metadata": {},
   "outputs": [],
   "source": []
  },
  {
   "cell_type": "markdown",
   "id": "976e35df-e219-4292-bd7d-5110b172b11b",
   "metadata": {},
   "source": [
    "Example 3. \n",
    "$$A=\\begin{pmatrix} 0 & 3 & -6 & 6 & 4 & | & -5 \\\\\n",
    "3 & -7 & 8 & -5 & 8 & | & 9 \\\\\n",
    "3 & -9 & 12 & -9 & 6 & | &15 \\end{pmatrix}\n",
    "$$\n",
    "\n",
    "$$R=\\begin{pmatrix} 0 & 3 & -6 & 6 & 4 & | & -5 \\\\\n",
    "3 & -7 & 8 & -5 & 8 & | & 9 \\\\\n",
    "3 & -9 & 12 & -9 & 6 & | &15 \\end{pmatrix}\n",
    "$$"
   ]
  },
  {
   "cell_type": "code",
   "execution_count": null,
   "id": "ae80197a-07f1-4e9d-99fe-4d6233140315",
   "metadata": {},
   "outputs": [],
   "source": []
  }
 ],
 "metadata": {
  "kernelspec": {
   "display_name": "Python [conda env:base] *",
   "language": "python",
   "name": "conda-base-py"
  },
  "language_info": {
   "codemirror_mode": {
    "name": "ipython",
    "version": 3
   },
   "file_extension": ".py",
   "mimetype": "text/x-python",
   "name": "python",
   "nbconvert_exporter": "python",
   "pygments_lexer": "ipython3",
   "version": "3.12.3"
  }
 },
 "nbformat": 4,
 "nbformat_minor": 5
}
