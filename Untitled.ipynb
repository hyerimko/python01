{
 "cells": [
  {
   "cell_type": "markdown",
   "id": "bb9a31de-94db-462b-bdcc-581ed8c14524",
   "metadata": {},
   "source": [
    "# Chapter 2. Variables and Basic Data Structures (변수와 기본 데이터 구조)\n",
    "## 2.1. Variables and Assignment (변수와 지정)\n",
    "#### 1) 대입문 (Assignment)"
   ]
  },
  {
   "cell_type": "code",
   "execution_count": 8,
   "id": "611c6bd7-2ddc-4584-8ab3-596a5e9de031",
   "metadata": {},
   "outputs": [
    {
     "data": {
      "text/plain": [
       "2"
      ]
     },
     "execution_count": 8,
     "metadata": {},
     "output_type": "execute_result"
    }
   ],
   "source": [
    "x=2\n",
    "x"
   ]
  },
  {
   "cell_type": "code",
   "execution_count": 10,
   "id": "9dd00cfd-1bf1-4ea3-9c06-6d726edc40e8",
   "metadata": {},
   "outputs": [
    {
     "data": {
      "text/plain": [
       "6"
      ]
     },
     "execution_count": 10,
     "metadata": {},
     "output_type": "execute_result"
    }
   ],
   "source": [
    "x*3"
   ]
  },
  {
   "cell_type": "code",
   "execution_count": 12,
   "id": "990092c8-3396-45d7-b8f9-4780b4db92c7",
   "metadata": {},
   "outputs": [
    {
     "data": {
      "text/plain": [
       "3"
      ]
     },
     "execution_count": 12,
     "metadata": {},
     "output_type": "execute_result"
    }
   ],
   "source": [
    "x=x+1\n",
    "x"
   ]
  },
  {
   "cell_type": "markdown",
   "id": "6b50b4b5-5072-4c04-8b89-4d8ab77e0f83",
   "metadata": {},
   "source": [
    "#### 2) 여러 이름을 가진 객체"
   ]
  },
  {
   "cell_type": "code",
   "execution_count": 38,
   "id": "5d82e292-458f-435b-bc56-25fece2fc8c6",
   "metadata": {},
   "outputs": [],
   "source": [
    "y=x+1\n",
    "y"
   ]
  },
  {
   "cell_type": "code",
   "execution_count": 47,
   "id": "c48908a0-bb0c-4b21-8f29-ebe8a379a584",
   "metadata": {},
   "outputs": [],
   "source": [
    "x=2\n",
    "x,y"
   ]
  },
  {
   "cell_type": "markdown",
   "id": "673e07b5-6dcb-442c-a763-87836aa35944",
   "metadata": {},
   "source": [
    "#### 3) 변수 이름 규칙\n",
    "1) 영어, 숫자, _ 로만 이루어진다.\n",
    "2) 숫자는 이름의 첫글자로 올 수 없다.\n",
    "3) 대소문자를 구분 (Pi, pi)\n",
    "4) 파이썬의 키워드와 동일한 이름은 불가능\n",
    "```python\n",
    "(def, if, else, while)\n",
    "```"
   ]
  },
  {
   "cell_type": "code",
   "execution_count": null,
   "id": "ef4ec11e-90ae-4fbd-9b04-6ea4612d7190",
   "metadata": {},
   "outputs": [],
   "source": [
    "my_message = 'hello'\n",
    "a1=3"
   ]
  },
  {
   "cell_type": "code",
   "execution_count": 31,
   "id": "ddc98b85-6862-4d51-8433-f082b9803d99",
   "metadata": {},
   "outputs": [],
   "source": [
    "13a = 10\n",
    "def = 'Definition 1'"
   ]
  },
  {
   "cell_type": "markdown",
   "id": "f4be2912-a1b9-47c5-b664-e0518584dd56",
   "metadata": {},
   "source": [
    "## 2.2. Data Structure - Strings (데이터 구조- 문자열)"
   ]
  },
  {
   "cell_type": "markdown",
   "id": "cef92de0-a6ee-4cd5-b4ee-72b70501c648",
   "metadata": {},
   "source": [
    "## 2.3. Data Structure - Lists (데이터 구조 - 리스트)"
   ]
  },
  {
   "cell_type": "markdown",
   "id": "3f803e37-b5a4-49c2-9bf6-a6ff455b1891",
   "metadata": {},
   "source": [
    "## 2.4. Data Structure - Tuples (데이터 구조 - 튜플)"
   ]
  },
  {
   "cell_type": "markdown",
   "id": "89537a04-9171-4618-b878-478386dd9812",
   "metadata": {},
   "source": [
    "## 2.5. Data Structure - Sets (데이터 구조 - 집합)"
   ]
  },
  {
   "cell_type": "markdown",
   "id": "cd89ef1f-1b99-466a-a0ca-e6b5c6346efe",
   "metadata": {},
   "source": [
    "## 2.6. Data Structure - Dictionaries (데이터 구조 - 사전)"
   ]
  },
  {
   "cell_type": "markdown",
   "id": "c479bef9-7025-4074-9ac9-e1331c61a040",
   "metadata": {},
   "source": [
    "## 2.7. Introducing Numpy Arrays (NumPy 배열 개요)"
   ]
  },
  {
   "cell_type": "code",
   "execution_count": 53,
   "id": "ee7f33a1-0d76-4ef7-8249-be3619ba8adb",
   "metadata": {},
   "outputs": [],
   "source": [
    "import numpy as np"
   ]
  },
  {
   "cell_type": "markdown",
   "id": "837d3c28-3266-4e94-b398-f7e20f60d3e1",
   "metadata": {},
   "source": [
    "$$x = \\begin{pmatrix} 1 &  4 & 3 \\end{pmatrix} $$\n",
    "$$y= \\begin{pmatrix} 1 & 4 & 3 \\\\ 9& 2 & 7 \\end{pmatrix}$$"
   ]
  },
  {
   "cell_type": "code",
   "execution_count": 112,
   "id": "e64233f4-7269-4e1a-a0a6-f90eac431896",
   "metadata": {},
   "outputs": [],
   "source": [
    "x = np.array([1,4,3])\n",
    "y = np.array([[1,4,3],[9,2,7]])"
   ]
  },
  {
   "cell_type": "code",
   "execution_count": 64,
   "id": "d90e6fd9-12c5-4ef3-8e10-f52f1d9ca06f",
   "metadata": {},
   "outputs": [],
   "source": [
    "x, y"
   ]
  },
  {
   "cell_type": "code",
   "execution_count": 72,
   "id": "464c1876-ac0a-46e9-888f-bc176e1c9b5e",
   "metadata": {},
   "outputs": [],
   "source": [
    "y.shape"
   ]
  },
  {
   "cell_type": "code",
   "execution_count": 118,
   "id": "8416be19-4c69-4d38-806a-4e5d1e67615a",
   "metadata": {},
   "outputs": [],
   "source": [
    "y.size"
   ]
  },
  {
   "cell_type": "markdown",
   "id": "a420b3a6-bfaf-4a1d-8317-e61a9b4e3056",
   "metadata": {},
   "source": [
    "1. 특정 구조나 패턴을 갖는 배열\n",
    "$$ z = \\begin{pmatrix} 1 & 2 & \\dots & 2000\\end{pmatrix}$$"
   ]
  },
  {
   "cell_type": "code",
   "execution_count": 82,
   "id": "42d6cd1f-305d-414c-a3f6-57f6c91b6141",
   "metadata": {},
   "outputs": [],
   "source": [
    "z = np.arange(1,2000)\n",
    "z"
   ]
  },
  {
   "cell_type": "code",
   "execution_count": 86,
   "id": "a96e66cf-6213-40ee-99c6-99d7ef297562",
   "metadata": {},
   "outputs": [],
   "source": [
    "z = np.arange(1,2001,1)\n",
    "z"
   ]
  },
  {
   "cell_type": "markdown",
   "id": "e24f96c7-96e4-493a-b9bf-0ae66e39fc5b",
   "metadata": {},
   "source": [
    "$$ \\begin{pmatrix} 1 & 3 & 5 & 7 \\end{pmatrix}$$\n",
    "$$ \\begin{pmatrix} 0.5 & 1 & 1.5 & 2 & 2.5 \\end{pmatrix}$$\n",
    "$$ \\begin{pmatrix} 4 & 3 & 2 & 1 \\end{pmatrix}$$"
   ]
  },
  {
   "cell_type": "code",
   "execution_count": 110,
   "id": "3550510d-3130-4f60-bfee-4af9f02f9fb3",
   "metadata": {},
   "outputs": [],
   "source": [
    "np.arange(1,8,2)"
   ]
  },
  {
   "cell_type": "code",
   "execution_count": 95,
   "id": "00a3d96c-7e19-4eaf-8b7c-93b432e3e093",
   "metadata": {},
   "outputs": [],
   "source": [
    "np.arange(0.5,3,0.5)"
   ]
  },
  {
   "cell_type": "code",
   "execution_count": 108,
   "id": "09c45943-62ce-4139-bd15-7fa63f2837b9",
   "metadata": {},
   "outputs": [],
   "source": [
    "np.arange(4,0,-1)"
   ]
  },
  {
   "cell_type": "markdown",
   "id": "3db1a188-60e6-4127-8894-c1efef0bf8b7",
   "metadata": {},
   "source": [
    "2. 시작 값과 마지막 값을 보장하는 균일한 원소\n",
    "\n",
    "   (1에서 시작하고 10에서 끝나며 10개의 원소를 포함하는 배열)"
   ]
  },
  {
   "cell_type": "code",
   "execution_count": 135,
   "id": "bac3461e-1377-4bb5-8770-988de9959504",
   "metadata": {},
   "outputs": [],
   "source": [
    "np.linspace(1,10,10)"
   ]
  },
  {
   "cell_type": "code",
   "execution_count": 133,
   "id": "24a1a06a-1db9-4be2-9ef6-c689b032c10d",
   "metadata": {},
   "outputs": [],
   "source": [
    "np.linspace(3,9,10)"
   ]
  },
  {
   "cell_type": "markdown",
   "id": "335752ad-d30d-4721-95ab-5a610057a2a6",
   "metadata": {},
   "source": [
    "3. 인덱스"
   ]
  },
  {
   "cell_type": "code",
   "execution_count": 162,
   "id": "2a856467-0970-470c-893f-2e4811150354",
   "metadata": {},
   "outputs": [],
   "source": [
    "x = np.array([1,4,3])\n",
    "x"
   ]
  },
  {
   "cell_type": "code",
   "execution_count": 160,
   "id": "6920adf6-b4ff-4a12-940a-caa1544b1584",
   "metadata": {},
   "outputs": [],
   "source": [
    "x[1]"
   ]
  },
  {
   "cell_type": "code",
   "execution_count": 164,
   "id": "6ee7bd0c-6eb8-4b7e-b7fe-36d90d2a1fcf",
   "metadata": {},
   "outputs": [],
   "source": [
    "x[1:]"
   ]
  },
  {
   "cell_type": "code",
   "execution_count": 166,
   "id": "d8ac6cee-3fd2-4a89-a2a4-9eb86ccd5312",
   "metadata": {},
   "outputs": [],
   "source": [
    "x[-1]"
   ]
  },
  {
   "cell_type": "code",
   "execution_count": 186,
   "id": "6fc0cc69-09bc-44e5-af63-927359c755c9",
   "metadata": {},
   "outputs": [],
   "source": [
    "y = np.array([[1,4,3],[9,2,7]])\n",
    "y"
   ]
  },
  {
   "cell_type": "code",
   "execution_count": 178,
   "id": "a1e46e71-d989-400d-b4bc-b6d5ba4473d5",
   "metadata": {},
   "outputs": [],
   "source": [
    "y[0,1]"
   ]
  },
  {
   "cell_type": "code",
   "execution_count": 180,
   "id": "7a7f9d1c-c864-4820-b3c9-a590fc0da291",
   "metadata": {},
   "outputs": [],
   "source": [
    "y[0,:]"
   ]
  },
  {
   "cell_type": "code",
   "execution_count": 182,
   "id": "4dd105fe-09a2-4860-95b7-79e432f7c04f",
   "metadata": {},
   "outputs": [],
   "source": [
    "y[:,-1]"
   ]
  },
  {
   "cell_type": "code",
   "execution_count": 184,
   "id": "4edbfe70-3ae7-4e3e-9142-676f54dd6f7f",
   "metadata": {},
   "outputs": [],
   "source": [
    "y[:, [0,2]]"
   ]
  },
  {
   "cell_type": "code",
   "execution_count": 196,
   "id": "759f1005-cc22-46df-92e2-592c690af697",
   "metadata": {},
   "outputs": [],
   "source": [
    "np.zeros((3,5)) #안쪽에 튜플 사용 튜플 언제 설명?"
   ]
  },
  {
   "cell_type": "code",
   "execution_count": 200,
   "id": "3eedf18a-f860-4772-a7a0-1dce3f026c8f",
   "metadata": {},
   "outputs": [],
   "source": [
    "np.ones((5,3))"
   ]
  },
  {
   "cell_type": "markdown",
   "id": "0a59c770-51a3-4876-863d-54f338d45696",
   "metadata": {},
   "source": [
    "1) $a=\\begin{pmatrix} 1& 2 & 3 & 4 & 5 & 6 \\end{pmatrix}$를 생성한다.\n",
    "2) a의 네 번째 원소 = 7\n",
    "3) 첫 번째, 두 번째, 세 번째 원소 = 1\n",
    "4) 두 번째, 세 번째, 네 번째 원소 = 9, 8, 7 로 재지정한다."
   ]
  },
  {
   "cell_type": "code",
   "execution_count": 203,
   "id": "2fc1f98c-50fc-4260-8c77-2db72203030c",
   "metadata": {},
   "outputs": [
    {
     "data": {
      "text/plain": [
       "array([1, 2, 3, 4, 5, 6])"
      ]
     },
     "execution_count": 203,
     "metadata": {},
     "output_type": "execute_result"
    }
   ],
   "source": [
    "a=np.arange(1,7)\n",
    "a"
   ]
  },
  {
   "cell_type": "code",
   "execution_count": 211,
   "id": "8ec7ff9d-a09c-47a4-929b-21b7165d78b7",
   "metadata": {},
   "outputs": [],
   "source": [
    "a[3] = 7\n",
    "a"
   ]
  },
  {
   "cell_type": "code",
   "execution_count": 213,
   "id": "6d0d281d-49ad-4e2b-803c-4aef14db8032",
   "metadata": {},
   "outputs": [],
   "source": [
    "a[:3] =1\n",
    "a"
   ]
  },
  {
   "cell_type": "code",
   "execution_count": 219,
   "id": "f6c5fab1-bbc5-4c4c-ab84-fde850cf09a9",
   "metadata": {},
   "outputs": [],
   "source": [
    "a[1:4] = np.array([9,8,7]) # list [9,8,7] 대입 가능 - 언제 설명?\n",
    "# a"
   ]
  },
  {
   "cell_type": "markdown",
   "id": "00d4c48d-cae9-40e6-a0db-84e246d3558f",
   "metadata": {},
   "source": [
    "$2\\times 2$ 크기를 갖고 원소들이 모두 0인 배열 b를 생성한 다음, 인덱싱을 통해\n",
    "$b=\\begin{pmatrix} 1 & 2 \\\\ 3 & 4 \\end{pmatrix}$를 생성하자."
   ]
  },
  {
   "cell_type": "code",
   "execution_count": 226,
   "id": "d41bb213-1dc4-451d-b14a-715a28b94f09",
   "metadata": {},
   "outputs": [],
   "source": [
    "b = np.zeros((2,2))\n",
    "b"
   ]
  },
  {
   "cell_type": "code",
   "execution_count": 228,
   "id": "63d0d67d-7d55-488b-b3eb-50b5480cf18e",
   "metadata": {},
   "outputs": [],
   "source": [
    "b[0,0]=1\n",
    "b[0,1]=2\n",
    "b[1,0]=3\n",
    "b[1,1]=4\n",
    "b"
   ]
  },
  {
   "cell_type": "markdown",
   "id": "49c2064b-bfb9-42d0-844d-53187212291b",
   "metadata": {},
   "source": [
    "4. 산술연산\n",
    "\n",
    "$b=\\begin{pmatrix} 1 & 2 \\\\ 3 & 4 \\end{pmatrix}$에 2를 더하고, 빼고, 곱하고, 나누고, 제곱한다."
   ]
  },
  {
   "cell_type": "code",
   "execution_count": 241,
   "id": "29c8d14c-74a0-4c77-b26d-5916da235118",
   "metadata": {},
   "outputs": [],
   "source": [
    "b+2"
   ]
  },
  {
   "cell_type": "code",
   "execution_count": 243,
   "id": "0ef93903-5059-4600-8f3a-a4e0f9779c6b",
   "metadata": {},
   "outputs": [],
   "source": [
    "b-2"
   ]
  },
  {
   "cell_type": "code",
   "execution_count": 245,
   "id": "481b04a3-b944-46f1-b35a-c0fc061f5183",
   "metadata": {},
   "outputs": [],
   "source": [
    "b*2"
   ]
  },
  {
   "cell_type": "code",
   "execution_count": 247,
   "id": "87df0724-14ea-4b34-afcf-e4c182e6200c",
   "metadata": {},
   "outputs": [],
   "source": [
    "b/2"
   ]
  },
  {
   "cell_type": "code",
   "execution_count": 256,
   "id": "588f61e7-7ea0-47c1-ac30-267b6b272453",
   "metadata": {},
   "outputs": [],
   "source": [
    "b**2"
   ]
  },
  {
   "cell_type": "markdown",
   "id": "7e607036-5bfb-451e-bfc7-4cb9b1498b98",
   "metadata": {},
   "source": [
    "$b=\\begin{pmatrix} 1 & 2 \\\\ 3 & 4 \\end{pmatrix}$ 와 $d=\\begin{pmatrix} 3 & 4 \\\\ 5 & 6 \\end{pmatrix}$에 대해 $b+d$, $b-d$를 계산하자."
   ]
  },
  {
   "cell_type": "code",
   "execution_count": 286,
   "id": "cc869343-9970-4307-90fb-1f0275e09a8c",
   "metadata": {},
   "outputs": [],
   "source": [
    "b=np.array([[1,2],[3,4]])\n",
    "d=np.array([[3,4],[5,6]])\n",
    "b+d, b-d"
   ]
  },
  {
   "cell_type": "markdown",
   "id": "0782d080-2b97-4545-888c-b06adc749a7e",
   "metadata": {},
   "source": [
    "5. 원소별 행렬 곱셈 vs 표준 행렬 곱셈\n",
    "\n",
    "$b*d$,  $b/d$,  $b\\ast\\!\\ast d$ 등을 계산하자."
   ]
  },
  {
   "cell_type": "code",
   "execution_count": 280,
   "id": "89615ded-3536-4c54-acb0-f9464f8f4bc5",
   "metadata": {},
   "outputs": [],
   "source": [
    "b*d"
   ]
  },
  {
   "cell_type": "code",
   "execution_count": 278,
   "id": "f31344eb-362f-4918-9fca-2d20367bc766",
   "metadata": {},
   "outputs": [],
   "source": [
    "b/d"
   ]
  },
  {
   "cell_type": "code",
   "execution_count": 298,
   "id": "d95e6803-f41a-4738-b14e-4a6f4c6e19d0",
   "metadata": {},
   "outputs": [
    {
     "data": {
      "text/plain": [
       "array([[   1,   16],\n",
       "       [ 243, 4096]])"
      ]
     },
     "execution_count": 298,
     "metadata": {},
     "output_type": "execute_result"
    }
   ],
   "source": [
    "b**d # 1.00e+00 : 1.00 x e^0승, e+01: e^1승 -안나올수도"
   ]
  },
  {
   "cell_type": "markdown",
   "id": "d836e630-a28b-4c04-88ec-093097bd39f7",
   "metadata": {},
   "source": [
    "6. 전치 (transpose)"
   ]
  },
  {
   "cell_type": "code",
   "execution_count": 303,
   "id": "5b91dfdf-b4c5-4dc1-9fd7-074728acb67f",
   "metadata": {},
   "outputs": [],
   "source": [
    "b.T"
   ]
  },
  {
   "cell_type": "markdown",
   "id": "0baf2320-43e4-4b40-a8ee-8e96e239f3a2",
   "metadata": {},
   "source": [
    "7. 벡터화(vectorized) 함수 - 배열을 입력으로 받아 함수를 수행하는 함수\n",
    "\n",
    "$x = \\begin{pmatrix} 1 & 4 & 9 & 16\\end{pmatrix}$ 에 대해 np.sqrt를 계산해보자."
   ]
  },
  {
   "cell_type": "code",
   "execution_count": 311,
   "id": "631e4fd8-6675-4cf0-aca5-362678ff6f2e",
   "metadata": {},
   "outputs": [],
   "source": [
    "x = np.array([1,4,9,16])\n",
    "np.sqrt(x)"
   ]
  },
  {
   "cell_type": "markdown",
   "id": "85d32036-b7e0-41b9-b842-f2644ef1e0f5",
   "metadata": {},
   "source": [
    "1) $x = \\begin{pmatrix} 1 & 2 & 4 & 5 & 9 & 3 \\end{pmatrix}$의 어떤 원소가 3보다 큰지 확인\n",
    "2) $x$의 어떤 원소가 $y = \\begin{pmatrix} 0 & 2 & 3 & 1 & 2 & 3 \\end{pmatrix}$ 의 해당 원소보다 큰지 확인\n",
    "3) 3보다 큰 $x$의 모든 원소를 포함하는 배열 변수 $z$를 생성하자. 3보다 큰 값을 갖는 x의 원소들에 값 0을 지정"
   ]
  },
  {
   "cell_type": "code",
   "execution_count": 314,
   "id": "9560d6fa-37cb-4c0d-ad81-e6a38005eb64",
   "metadata": {},
   "outputs": [],
   "source": [
    "x=np.array([1,2,4,5,9,3])\n",
    "y=np.array([0,2,3,1,2,3])"
   ]
  },
  {
   "cell_type": "code",
   "execution_count": 320,
   "id": "0727d3fa-3f34-4d3e-a0fd-688c13a77a3c",
   "metadata": {},
   "outputs": [],
   "source": [
    "x>3"
   ]
  },
  {
   "cell_type": "code",
   "execution_count": 322,
   "id": "fb9aafd1-da20-4cf4-8afd-2a4a980a3cfd",
   "metadata": {},
   "outputs": [],
   "source": [
    "x>y"
   ]
  },
  {
   "cell_type": "code",
   "execution_count": 331,
   "id": "6bdf15f4-c555-4b53-a546-f07d89912a64",
   "metadata": {},
   "outputs": [],
   "source": [
    "z=x[x>3] # 불리언 인덱싱\n",
    "z"
   ]
  },
  {
   "cell_type": "code",
   "execution_count": 333,
   "id": "ad771a56-3079-4454-a5b5-464351e00aa6",
   "metadata": {},
   "outputs": [],
   "source": [
    "x[x>3]=0\n",
    "x"
   ]
  }
 ],
 "metadata": {
  "kernelspec": {
   "display_name": "Python [conda env:base] *",
   "language": "python",
   "name": "conda-base-py"
  },
  "language_info": {
   "codemirror_mode": {
    "name": "ipython",
    "version": 3
   },
   "file_extension": ".py",
   "mimetype": "text/x-python",
   "name": "python",
   "nbconvert_exporter": "python",
   "pygments_lexer": "ipython3",
   "version": "3.12.3"
  }
 },
 "nbformat": 4,
 "nbformat_minor": 5
}
